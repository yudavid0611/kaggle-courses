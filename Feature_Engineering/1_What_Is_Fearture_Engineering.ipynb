{
 "cells": [
  {
   "attachments": {},
   "cell_type": "markdown",
   "metadata": {},
   "source": [
    "# 1. What Is Feature Engineering?"
   ]
  },
  {
   "attachments": {},
   "cell_type": "markdown",
   "metadata": {},
   "source": [
    "## 내용\n",
    "### 1) 소개\n",
    "- feature engineering의 목표는 데이터를 문제에 더욱 적합하게 만드는 것이다.\n",
    "- feature engineering을 통해 다음 세 가지를 달성할 수 있다.\n",
    "    1. 모델의 예측 능력을 개선\n",
    "    2. 컴퓨팅과 데이터의 요구사항 축소\n",
    "    3. 결과의 해석가능성 향상\n",
    "    \n",
    "### 2) 무엇을 배울 것인가?\n",
    "- 어떤 features가 가장 중요한지 결정하는 법(with mutual information)\n",
    "- 새로운 feature 만들기\n",
    "- high-cardinality categoricals를 인코드하기(with target encoding)\n",
    "- segmentation features 만들기(with k-means clustering)\n",
    "- 데이터셋의 변동을 featurs로 분해하기(with PCA)\n",
    "---\n"
   ]
  }
 ],
 "metadata": {
  "language_info": {
   "name": "python"
  },
  "orig_nbformat": 4
 },
 "nbformat": 4,
 "nbformat_minor": 2
}
