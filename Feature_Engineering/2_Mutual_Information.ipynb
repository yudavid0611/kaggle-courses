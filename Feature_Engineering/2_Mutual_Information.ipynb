{
 "cells": [
  {
   "attachments": {},
   "cell_type": "markdown",
   "metadata": {},
   "source": [
    "# 2. Mutual Information"
   ]
  },
  {
   "attachments": {},
   "cell_type": "markdown",
   "metadata": {},
   "source": [
    "## 설명\n",
    "### 1) 필요성\n",
    "- 새로운 데이터셋을 마주했을 때, 종종 어떻게 데이터셋을 다뤄야 할지 막막할 때가 있다. 그럴 때 가장 먼저 해보면 좋을 작업이 바로 `feature utility metric`으로 features에 ranking을 부여하는 것이다. 이를 통해 가장 유용한 features만을 뽑아 모델을 만들어보는 것이다.\n",
    "    - feature utility metric: feature와 target 사이 관계를 측정하는 함수\n",
    "- feature utility metric의 하나인 `mutual information`은 두 quantities 간 관계를 측정하는 함수다. 상관관계(correlation)와 다른 점은 선형 관계뿐만 아니라 어떤 종류의 관계도 찾아낼 수 있다는 것이다.\n",
    "\n",
    "### 2) mutual information의 장점\n",
    "1. easy to use and interpret,\n",
    "2. computationally efficient,\n",
    "3. theoretically well-founded,\n",
    "4. resistant to overfitting, and,\n",
    "5. able to detect any kind of relationship\n",
    "\n",
    "### 3) mutual information 상세\n",
    "- mutual information은 두 quantities 사이 관계를 `uncertainty`라는 용어로 설명한다. mutual information score는 하나의 quantity가 다른 quantity의 uncertainty를 얼마만큼 줄여주는지에 대한 값이다.\n",
    "- mutual information의 가장 작은 값은 `0.0`이다. 이는 두 quantities가 독립이라는 의미이며 다르게 표현하자면 하나의 quantity가 다른 quantity에 대해 어떤 것도 설명할 수 없다는 뜻이다. 한편 mutual information에 upper bound는 없다.\n",
    "- 유의점\n",
    "    1. 다른 features와의 관계를 탐지하지는 않는다. mutual information은 `univariate metric`이다.\n",
    "    2. mutual information가 작더라도 다른 feature와의 상호작용을 통해 매우 유용한 feature가 될 가능성이 있음을 염두에 두어야 한다. 변수 간 상호작용을 파악하는 데 있어서 도메인 지식이 좋은 가이드가 될 수 있다.\n",
    "- 어떤 feature의 mutual information score가 가장 높을까?\n",
    "\n",
    "    <img src=\"assets/mutual_information.JPG\" width=\"90%\"/>\n",
    "\n",
    "    - `YearBuilt`다. 왜냐하면 year에 따라 SalePrice가 좁은 범위로 제한되기 때문이다. 즉 `YearBuilt`를 알면 SalePrice의 uncertainty가 줄어든다."
   ]
  }
 ],
 "metadata": {
  "language_info": {
   "name": "python"
  },
  "orig_nbformat": 4
 },
 "nbformat": 4,
 "nbformat_minor": 2
}
