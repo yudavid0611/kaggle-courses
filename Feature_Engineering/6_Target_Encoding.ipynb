{
 "cells": [
  {
   "cell_type": "markdown",
   "metadata": {},
   "source": [
    "# 6. Target Encoding"
   ]
  },
  {
   "cell_type": "markdown",
   "metadata": {},
   "source": [
    "## 설명\n",
    "- categorical features를 encode할 때 `target`을 사용한다.\n",
    "- High-cardinality features에 적용하기 좋다.\n",
    "- mean encoding 예시\n",
    "    - 각 카테고리별 target의 평균으로 encoding 진행\n",
    "\n",
    "    <img src=\"assets/target_encoding.jpg\" width=\"50%\"/>\n",
    "\n",
    "- target encoding의 문제점\n",
    "    1. `unknown categories`: target encoding은 overfitting의 위험이 있기 때문에 독립된 encoding split에서 학습되어야 하는데, encoding을 학습 데이터에 적용할 때 만약 encoding split에서 나타나지 않은 category가 있을 경우 결측값 처리를 해주어야 한다.\n",
    "    2. `rare categories`: 데이터셋에서 드물게 나타난 category의 경우 encoding 결과가 해당 category를 대표한다고 볼 수 없다.\n",
    "\n",
    "- 해결책: smoothing\n",
    "    - `in-category` 평균과 `overall` 평균을 섞는 방법\n",
    "    ``` python\n",
    "    weight = n / (n + m)\n",
    "\n",
    "    encoding = weight * in_category + (1 - weight) * overall\n",
    "    ```\n",
    "    - rare category의 weight은 작고, missing category는 overall average만 적용된다.\n",
    "    - n: 데이터셋에서 해당 category가 나타난 총 횟수\n",
    "    - m: smoothing factor를 결정한다. m이 크면 overall estimate에 더 큰 가중치를 부여한다."
   ]
  },
  {
   "cell_type": "markdown",
   "metadata": {},
   "source": [
    "## 코드"
   ]
  },
  {
   "cell_type": "code",
   "execution_count": null,
   "metadata": {},
   "outputs": [],
   "source": [
    "X = df.copy()\n",
    "y = X.pop('Rating')\n",
    "\n",
    "# encoding split\n",
    "X_encode = X.sample(frac=0.25)\n",
    "y_encode = y[X_encode.index]\n",
    "\n",
    "X_pretrain = X.drop(X_encode.index)\n",
    "y_train = y[X_pretrain.index]"
   ]
  },
  {
   "cell_type": "code",
   "execution_count": null,
   "metadata": {},
   "outputs": [],
   "source": [
    "from category_encoders import MEstimateEncoder\n",
    "\n",
    "# Create the encoder instance. Choose m to control noise.\n",
    "encoder = MEstimateEncoder(cols=[\"Zipcode\"], m=5.0)\n",
    "\n",
    "# Fit the encoder on the encoding split.\n",
    "encoder.fit(X_encode, y_encode)\n",
    "\n",
    "# Encode the Zipcode column to create the final training data\n",
    "X_train = encoder.transform(X_pretrain)"
   ]
  }
 ],
 "metadata": {
  "language_info": {
   "name": "python"
  },
  "orig_nbformat": 4
 },
 "nbformat": 4,
 "nbformat_minor": 2
}
