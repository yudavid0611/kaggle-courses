{
 "cells": [
  {
   "cell_type": "markdown",
   "metadata": {},
   "source": [
    "# 5. Cross Validation"
   ]
  },
  {
   "cell_type": "markdown",
   "metadata": {},
   "source": [
    "## 설명\n",
    "- cross validation의 필요성\n",
    "  - 우리는 어떤 변수들을 사용할지, 어떤 타입의 모델을 사용할지, 어떤 인자들을 사용할지 등에 대해 고민하게 된다.\n",
    "  - 지금까지는 하나의 validation set으로 모델을 평가했는데, 여기에는 문제가 있다. 5000개의 rows가 있다고 했을 때 1000개를 validation에 사용한다고 하면, 해당 1000개에는 모델이 잘 작동할 수 있어도 다른 1000개에는 아닐 수도 있다.\n",
    "  - 일반적으로 validation set이 클수록 모델 성능이 less randomness(noise)하다. 그런데 지금까지 해왔던 training data에서 일부를 떼어내는 방식으로 validation data를 크게 늘릴 수 없다. 왜냐하면 training data 수를 줄이는 만큼 모델 학습이 부실해지기 때문이다.\n",
    "  - 이런 문제를 해결하는 방법으로 cross validation을 사용할 수 있다.\n",
    "\n",
    "- k-fold cross validation\n",
    "  1. 전체 dataset을 k개로 나눈다. 만약 5개로 나눴다면, 데이터를 5 folds로 나눴다고 말한다.\n",
    "  2. 각각의 검증마다 각기 다른 fold를 validation data로 두고, 나머지는 training에 사용한다.\n",
    "  - 결과적으로 모든 데이터가 특정 검증에서 평가를 위해 사용된다.\n",
    "  - 언제 사용하면 좋을까?\n",
    "    1. dataset이 작아서 computational burden이 big deal이 아닐 경우\n",
    "    2. dataset이 충분히 클 때는 sigle validation set으로도 충분하다."
   ]
  },
  {
   "cell_type": "code",
   "execution_count": null,
   "metadata": {},
   "outputs": [],
   "source": []
  }
 ],
 "metadata": {
  "kernelspec": {
   "display_name": "Python 3.9.13 64-bit",
   "language": "python",
   "name": "python3"
  },
  "language_info": {
   "name": "python",
   "version": "3.9.13"
  },
  "orig_nbformat": 4,
  "vscode": {
   "interpreter": {
    "hash": "3d3579b64ed644892bc49d0da2d1890659408e00eebf25200bc250e1696a02dd"
   }
  }
 },
 "nbformat": 4,
 "nbformat_minor": 2
}
