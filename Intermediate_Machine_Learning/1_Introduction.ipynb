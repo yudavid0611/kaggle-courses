{
 "cells": [
  {
   "cell_type": "markdown",
   "metadata": {},
   "source": [
    "# 1. Introduction"
   ]
  },
  {
   "cell_type": "markdown",
   "metadata": {},
   "source": [
    "## 설명\n",
    "- 이미 ML에 대한 지식이 어느 정도 있는 상태에서, ML 모델의 quality 향상 법을 알고 싶은 사람들을 위한 코스\n",
    "- contents to learn\n",
    "    1. 결측치, 명목변수 다루기\n",
    "    2. ML quality 향상을 위한 파이프라인 design\n",
    "    3. 모델 validation을 위한 고급 기법인 cross-validation\n",
    "    4. XGBoost\n",
    "    5. 흔히 발생하는 심각한 data science 실수들(leakage)"
   ]
  }
 ],
 "metadata": {
  "language_info": {
   "name": "python"
  },
  "orig_nbformat": 4
 },
 "nbformat": 4,
 "nbformat_minor": 2
}
