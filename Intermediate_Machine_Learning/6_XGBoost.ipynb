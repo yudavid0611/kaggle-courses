{
 "cells": [
  {
   "attachments": {},
   "cell_type": "markdown",
   "metadata": {},
   "source": [
    "# XGBoost"
   ]
  },
  {
   "attachments": {},
   "cell_type": "markdown",
   "metadata": {},
   "source": [
    "## 설명\n",
    "- XGBoost란?: `extreme gradient boosting`를 의미하며, random forest와 마찬가지로 `ensemble` 방법론 중 하나다.\n",
    "    - ensemble 방법론: 여러 모델의 predictions를 결합하는 기법(ex. random forest에서는 여러 tree의 결과를 결합)\n",
    "    - 1개의 모델로 시작하며, 모델(들)의 loss를 줄이는 방향으로 모델을 추가해나간다.\n",
    "- Cycle\n",
    "    1. 현재 ensemble로 predictions를 구한다.\n",
    "    2. predictions으로 `loss function`를 계산한다.\n",
    "    3. loss function을 새로운 모델을 fit하는 데 사용한다. 새로 추가되는 모델은 loss를 줄여준다.\n",
    "    4. 모델을 ensemble에 추가한다.\n",
    "- Parameters\n",
    "    - n_estimators: 몇 번의 사이클을 수행할 것인가?(사이클을 돌며 모델이 추가되기 때문에 모델 개수와도 일치)\n",
    "        - 값이 너무 작으면 `underfitting`을 야기할 수 있음\n",
    "        - 값이 너무 크면 `overfitting`을 야기할 수 있음\n",
    "    - early_stopping_rounds: 연속으로 `validation score`가 개선되지 않으면 사이클을 멈출 것인가?\n",
    "    - eval_set: early_stopping_rounds을 사용할 때 `validation score`를 계산하기 위한 데이터셋\n",
    "    - learning_rate: 각 모델의 predictions에 곱해주는 값. 각 모델이 끼치는 영향력을 줄여준다(overfitting 방지).\n",
    "- 이상적인 학습: `작은 learning_rate`과 `큰 n_estimators`로 학습할 때 일반적으로 가장 좋은 결과가 나온다."
   ]
  },
  {
   "attachments": {},
   "cell_type": "markdown",
   "metadata": {},
   "source": [
    "## Exercise"
   ]
  },
  {
   "attachments": {},
   "cell_type": "markdown",
   "metadata": {},
   "source": [
    "### Flow\n",
    "1. `XGBRegressor` 클래스를 통해 모델 정의\n",
    "2. fit 모델\n",
    "3. predict\n",
    "4. MAE 계산"
   ]
  },
  {
   "cell_type": "code",
   "execution_count": 3,
   "metadata": {},
   "outputs": [],
   "source": [
    "import pandas as pd\n",
    "from xgboost import XGBRegressor\n",
    "from sklearn.model_selection import train_test_split\n",
    "from sklearn.metrics import mean_absolute_error"
   ]
  },
  {
   "cell_type": "code",
   "execution_count": 4,
   "metadata": {},
   "outputs": [],
   "source": [
    "# Read the data\n",
    "X = pd.read_csv('data/housing_prices_train.csv', index_col='Id')\n",
    "X_test_full = pd.read_csv('data/housing_prices_test.csv', index_col='Id')\n",
    "\n",
    "# Remove rows with missing target, separate target from predictors\n",
    "X.dropna(axis=0, subset=['SalePrice'], inplace=True)\n",
    "y = X.SalePrice              \n",
    "X.drop(['SalePrice'], axis=1, inplace=True)\n",
    "\n",
    "# Break off validation set from training data\n",
    "X_train_full, X_valid_full, y_train, y_valid = train_test_split(X, y, train_size=0.8, test_size=0.2,\n",
    "                                                                random_state=0)\n",
    "\n",
    "# \"Cardinality\" means the number of unique values in a column\n",
    "# Select categorical columns with relatively low cardinality (convenient but arbitrary)\n",
    "low_cardinality_cols = [cname for cname in X_train_full.columns if X_train_full[cname].nunique() < 10 and \n",
    "                        X_train_full[cname].dtype == \"object\"]\n",
    "\n",
    "# Select numeric columns\n",
    "numeric_cols = [cname for cname in X_train_full.columns if X_train_full[cname].dtype in ['int64', 'float64']]\n",
    "\n",
    "# Keep selected columns only\n",
    "my_cols = low_cardinality_cols + numeric_cols\n",
    "X_train = X_train_full[my_cols].copy()\n",
    "X_valid = X_valid_full[my_cols].copy()\n",
    "X_test = X_test_full[my_cols].copy()\n",
    "\n",
    "# One-hot encode the data (to shorten the code, we use pandas)\n",
    "X_train = pd.get_dummies(X_train)\n",
    "X_valid = pd.get_dummies(X_valid)\n",
    "X_test = pd.get_dummies(X_test)\n",
    "X_train, X_valid = X_train.align(X_valid, join='left', axis=1)\n",
    "X_train, X_test = X_train.align(X_test, join='left', axis=1)"
   ]
  },
  {
   "cell_type": "code",
   "execution_count": 6,
   "metadata": {},
   "outputs": [
    {
     "data": {
      "text/plain": [
       "16728.27523009418"
      ]
     },
     "execution_count": 6,
     "metadata": {},
     "output_type": "execute_result"
    }
   ],
   "source": [
    "# Define the model\n",
    "model = XGBRegressor(n_estimators=500,\n",
    "                     learning_rate=0.05) # Your code here\n",
    "\n",
    "# Fit the model\n",
    "model.fit(X_train, y_train) # Your code here\n",
    "\n",
    "# Get predictions\n",
    "predictions = model.predict(X_valid) # Your code here\n",
    "\n",
    "# Calculate MAE\n",
    "mae = mean_absolute_error(y_valid, predictions) # Your code here\n",
    "\n",
    "mae"
   ]
  }
 ],
 "metadata": {
  "kernelspec": {
   "display_name": "base",
   "language": "python",
   "name": "python3"
  },
  "language_info": {
   "codemirror_mode": {
    "name": "ipython",
    "version": 3
   },
   "file_extension": ".py",
   "mimetype": "text/x-python",
   "name": "python",
   "nbconvert_exporter": "python",
   "pygments_lexer": "ipython3",
   "version": "3.8.8"
  },
  "orig_nbformat": 4
 },
 "nbformat": 4,
 "nbformat_minor": 2
}
