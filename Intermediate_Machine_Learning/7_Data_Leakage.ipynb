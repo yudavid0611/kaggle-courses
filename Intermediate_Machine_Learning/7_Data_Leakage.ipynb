{
 "cells": [
  {
   "attachments": {},
   "cell_type": "markdown",
   "metadata": {},
   "source": [
    "# Data Leakage"
   ]
  },
  {
   "attachments": {},
   "cell_type": "markdown",
   "metadata": {},
   "source": [
    "## 설명\n",
    "- 모델이 실제로 예측에 쓰일 때는 `사용하기 어려운(또는 불가능한)` 데이터를 가지고 학습할 경우 data leakage가 발생한다.\n",
    "- 위와 같은 상황이 발생할 경우, 모델 학습 시에는 training set과 validation(또는 test) set에서는 모델이 높은 accuracy를 갖지만 새로운 데이터에 대해 예측하는 경우에 좋은 결과를 내지 못한다.\n",
    "- data leakage에는 두 가지 타입이 있다.\n",
    "    1. `target leakage`: 예측 시에는 사용할 수 없는 데이터를 포함하여 학습한 경우 발생한다.\n",
    "        - ex. 집 가격을 예측하는 모델을 만들 때, feature로 'Average sales price of homes in the same neighborhood'를 사용한다고 하자. 만약 해당 feature가 현재 데이터에 들어있는 집이 팔린 결과 또한 포함하고 있다면 해당 feature에 의해 training data에서 높은 정확도를 낼 것이다. 그러나 실제 예측 시에는 예측 대상이 되는 집이 팔리지 않은 상황이기에 정확한 결과를 내지 못한다.\n",
    "    2. `train-test contamination`: train data와 test data를 분리하기 전 결측값 처리 등의 전처리를 수행한 경우에 발생한다."
   ]
  }
 ],
 "metadata": {
  "language_info": {
   "name": "python"
  },
  "orig_nbformat": 4
 },
 "nbformat": 4,
 "nbformat_minor": 2
}
