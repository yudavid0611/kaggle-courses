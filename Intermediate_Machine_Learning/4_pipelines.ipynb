{
 "cells": [
  {
   "cell_type": "markdown",
   "metadata": {},
   "source": [
    "# 4. Pipelines\n",
    "- how to use pipelines to clean up your modeling code."
   ]
  },
  {
   "cell_type": "markdown",
   "metadata": {},
   "source": [
    "## 설명\n",
    "- pipelines의 장점\n",
    "  1. Cleaner code: 직접 training, validation data를 추적할 필요가 없다.\n",
    "  2. Fewer bugs: 전처리 과정에서 필요한 step을 빼먹을 가능성이 낮아진다.\n",
    "  3. Easier to Productionize: prototype에서 활용가능한 모델로 transition하는 데 도움을 준다.\n",
    "  4. More Options for Model Validation: cross-validation 같은 다양한 모델 validation 옵션들을 사용할 수 있다.\n",
    "\n",
    "<hr>\n",
    "\n",
    "- libraries and modules\n",
    "  - ColumnTransformer: 서로 다른 전처리 과정을 한 번에 처리해주는 클래스\n",
    "    1. numeric data: 결측치 처리\n",
    "    2. categorical data: one-hot encoding\n",
    "  - Pipeline: Pipeline 클래스를 활용하여 전처리와 모델링 과정을 합친 pipeline을 정의할 수 있다.\n",
    "    - training data 전처리와 모델 fitting까지 한 번에 실행된다.\n",
    "    - validation data의 전처리를 자동으로 해준다."
   ]
  },
  {
   "cell_type": "markdown",
   "metadata": {},
   "source": [
    "## Exercise"
   ]
  },
  {
   "cell_type": "code",
   "execution_count": 66,
   "metadata": {},
   "outputs": [],
   "source": [
    "# load dataset\n",
    "import pandas as pd\n",
    "\n",
    "df_train = pd.read_csv('data/housing_prices_train.csv', index_col='Id')\n",
    "df_test = pd.read_csv('data/housing_prices_test.csv', index_col='Id')"
   ]
  },
  {
   "cell_type": "code",
   "execution_count": 67,
   "metadata": {},
   "outputs": [],
   "source": [
    "# make data\n",
    "\n",
    "from sklearn.model_selection import train_test_split\n",
    "\n",
    "# target 칼럼에서 결측값이 있는 행 삭제\n",
    "df_train.dropna(subset=['SalePrice'], axis=0, inplace=True)\n",
    "\n",
    "# X_full, y 정의\n",
    "y = df_train.SalePrice\n",
    "X_full = df_train.drop(columns=['SalePrice'], axis=1)\n",
    "\n",
    "# category columns, numeric columns 정의\n",
    "categorical_cols = [\n",
    "    col for col in X_full.columns\n",
    "    if X_full[col].dtype == 'object' and \n",
    "    X_full[col].nunique() < 10  # 고유값이 10개 이상인 칼럼은 사용하지 않음\n",
    "]\n",
    "numeric_cols = [\n",
    "    col for col in X_full.columns\n",
    "    if X_full[col].dtype in ['int64', 'float64']\n",
    "]\n",
    "# numeric_data = X_train.select_dtypes(\n",
    "#     include=['int64', 'float64']\n",
    "# )\n",
    "\n",
    "# train, valid data 분리\n",
    "X_train_full, X_valid_full, y_train, y_valid = train_test_split(\n",
    "    X_full,\n",
    "    y,\n",
    "    train_size=0.8,\n",
    "    test_size=0.2,\n",
    "    random_state=0\n",
    ")\n",
    "\n",
    "# 모델 build 및 평가에 사용될 데이터 정의\n",
    "use_cols = categorical_cols + numeric_cols\n",
    "X_train = X_train_full[use_cols].copy()\n",
    "X_valid = X_valid_full[use_cols].copy()\n",
    "X_test = df_test[use_cols].copy()"
   ]
  },
  {
   "cell_type": "code",
   "execution_count": 68,
   "metadata": {},
   "outputs": [],
   "source": [
    "# preprocessing\n",
    "\n",
    "from sklearn.compose import ColumnTransformer\n",
    "from sklearn.pipeline import Pipeline\n",
    "from sklearn.impute import SimpleImputer\n",
    "from sklearn.preprocessing import OneHotEncoder\n",
    "\n",
    "# for numeric data\n",
    "numeric_transformer = SimpleImputer(\n",
    "    strategy='mean'\n",
    ")\n",
    "\n",
    "# for categorical data\n",
    "categorical_transformer = Pipeline(\n",
    "    steps=[\n",
    "        ('imputer', SimpleImputer(strategy='most_frequent')),\n",
    "        ('onehot', OneHotEncoder(handle_unknown='ignore'))\n",
    "    ]\n",
    ")\n",
    "\n",
    "# 각 type에 따른 transformer를 종합하는 preprocessor 정의\n",
    "preprocessor = ColumnTransformer(\n",
    "    transformers=[\n",
    "        ('num', numeric_transformer, numeric_cols),\n",
    "        ('cat', categorical_transformer, categorical_cols)\n",
    "    ]\n",
    ")"
   ]
  },
  {
   "cell_type": "code",
   "execution_count": 70,
   "metadata": {},
   "outputs": [
    {
     "name": "stdout",
     "output_type": "stream",
     "text": [
      "MAE: 17648.417157534244\n"
     ]
    }
   ],
   "source": [
    "# build and test a model\n",
    "\n",
    "from sklearn.ensemble import RandomForestRegressor\n",
    "from sklearn.metrics import mean_absolute_error\n",
    "\n",
    "# Pipeline으로 transformer와 모델을 합치기\n",
    "model = RandomForestRegressor(random_state=0, n_estimators=100)\n",
    "pipeline = Pipeline(\n",
    "    steps=[\n",
    "        ('preprocessor', preprocessor),\n",
    "        ('model', model)\n",
    "    ]\n",
    ")\n",
    "\n",
    "# 전처리 및 fitting 진행\n",
    "pipeline.fit(X_train, y_train)\n",
    "\n",
    "# validation data 전처리 및 예측\n",
    "preds = pipeline.predict(X_valid)\n",
    "\n",
    "print('MAE:', mean_absolute_error(y_valid, preds))\n"
   ]
  }
 ],
 "metadata": {
  "kernelspec": {
   "display_name": "Python 3.9.13 64-bit",
   "language": "python",
   "name": "python3"
  },
  "language_info": {
   "codemirror_mode": {
    "name": "ipython",
    "version": 3
   },
   "file_extension": ".py",
   "mimetype": "text/x-python",
   "name": "python",
   "nbconvert_exporter": "python",
   "pygments_lexer": "ipython3",
   "version": "3.9.13"
  },
  "orig_nbformat": 4,
  "vscode": {
   "interpreter": {
    "hash": "3d3579b64ed644892bc49d0da2d1890659408e00eebf25200bc250e1696a02dd"
   }
  }
 },
 "nbformat": 4,
 "nbformat_minor": 2
}
