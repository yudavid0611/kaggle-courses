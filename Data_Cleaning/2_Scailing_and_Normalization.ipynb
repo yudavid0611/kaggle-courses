{
 "cells": [
  {
   "cell_type": "markdown",
   "metadata": {},
   "source": [
    "# 2. Scaling and Normalization"
   ]
  },
  {
   "cell_type": "markdown",
   "metadata": {},
   "source": [
    "## 설명\n",
    "### Scaling\n",
    "- 데이터의 `range`를 변경해준다.\n",
    "- 예를 들어 기존 데이터의 범위가 0-100이었다면 이 범위를 0-1로 바꿔주는 것이다.\n",
    "- data points간의 거리를 바탕으로 작동하는 알고리즘(SVM, KNN 등)에서 어떤 features에서든지 '1' 변화의 중요도는 동일하다.\n",
    "    - 환율을 예로들면 US Dollar와 Yen 있을 때 상기 알고리즘에서 1 Dollar 차이와 1 Yen의 차이를 동일하게 취급한다.\n",
    "- Scaling을 통해 변수들을 동일한 기반에서 비교할 수 있다.\n",
    "\n",
    "<img src=\"assets/scaling.png\" width=\"70%\"/>\n",
    "\n",
    "### Normalization\n",
    "- 데이터의 `분포 형태(the shape of the distribution)`를 바꾼다.\n",
    "- 정규 분포를 가정하는 머신러닝 또는 통계적 기법을 사용할 경우 normalize를 수행한다.\n",
    "\n",
    "<img src=\"assets/normalization.png\" width=\"70%\"/>"
   ]
  }
 ],
 "metadata": {
  "language_info": {
   "name": "python"
  },
  "orig_nbformat": 4
 },
 "nbformat": 4,
 "nbformat_minor": 2
}
