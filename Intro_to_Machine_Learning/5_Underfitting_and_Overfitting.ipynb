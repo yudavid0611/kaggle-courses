{
 "cells": [
  {
   "cell_type": "markdown",
   "metadata": {},
   "source": [
    "# 5. Underfitting and Overfitting"
   ]
  },
  {
   "cell_type": "markdown",
   "metadata": {},
   "source": [
    "## Overfitting\n",
    "- 트리를 예로 들자면, 트리의 레벨이 깊어질수록 각 leaf에 남는 데이터는 적어진다. 각 leaf들의 값은 실제 값에 매우 근접하나, 새로운 데이터에 대한 예측력 신뢰도는 매우 떨어진다. 이러한 현상을 'overfitting'이라고 한다.\n",
    "- \"Leaves with very few houses will make predictions that are quite close to those homes' actual values, but they may make very unreliable predictions for new data (because each prediction is based on only a few houses).\""
   ]
  },
  {
   "cell_type": "markdown",
   "metadata": {},
   "source": [
    "## Underfitting\n",
    "- 트리의 레벨이 너무 낮으면, 해당 모델은 training data에서조차 데이터의 패턴을 찾지 못한다. 당연히 이러한 모델은 validation data에서도 훌륭한 예측력을 갖지 못한다. 이를 'underfitting'이라고 한다.\n",
    "- \"When a model fails to capture important distinctions and patterns in the data, so it performs poorly even in training data, that is called underfitting.\""
   ]
  },
  {
   "cell_type": "markdown",
   "metadata": {},
   "source": [
    "## Exercise"
   ]
  },
  {
   "cell_type": "code",
   "execution_count": 9,
   "metadata": {},
   "outputs": [],
   "source": [
    "# basic settings\n",
    "\n",
    "import pandas as pd\n",
    "from sklearn.tree import DecisionTreeClassifier\n",
    "from sklearn.model_selection import train_test_split\n",
    "from sklearn.metrics import mean_absolute_error\n",
    "\n",
    "df = pd.read_csv('data/home_data.csv', index_col='Id')\n",
    "y = df.SalePrice\n",
    "X_cols = ['LotArea', 'YearBuilt', '1stFlrSF', '2ndFlrSF', 'FullBath', 'BedroomAbvGr', 'TotRmsAbvGrd']\n",
    "X = df[X_cols]\n",
    "\n",
    "train_X, val_X, train_y, val_y = train_test_split(X, y, random_state=1)\n",
    "model = DecisionTreeClassifier(random_state=1)"
   ]
  },
  {
   "cell_type": "code",
   "execution_count": 12,
   "metadata": {},
   "outputs": [],
   "source": [
    "# 트리 레벨에 따른 mae 결과를 비교하기 위한 함수 정의\n",
    "\n",
    "def get_mae(max_leaf, train_X, val_X, train_y, val_y):\n",
    "    model = DecisionTreeClassifier(random_state=1)\n",
    "    model.fit(train_X, train_y)\n",
    "    predicted = model.predict(val_X)\n",
    "    mae = mean_absolute_error(val_y, predicted)\n",
    "    return mae"
   ]
  },
  {
   "cell_type": "code",
   "execution_count": 15,
   "metadata": {},
   "outputs": [
    {
     "name": "stdout",
     "output_type": "stream",
     "text": [
      "[32035.317808219177, 5]\n",
      "[[32035.317808219177, 5], [32035.317808219177, 25], [32035.317808219177, 50], [32035.317808219177, 100], [32035.317808219177, 250], [32035.317808219177, 500]]\n"
     ]
    }
   ],
   "source": [
    "# 트리 레벨에 따른 mae 확인해보기\n",
    "\n",
    "max_leaves = [5, 25, 50, 100, 250, 500]\n",
    "best_result = [float('inf'), -1]    # mae, max_leaf\n",
    "result_all = []                     # 모든 결과를 넣을 리스트\n",
    "\n",
    "for max_leaf in max_leaves:\n",
    "    result = get_mae(max_leaf, train_X, val_X, train_y, val_y)\n",
    "    result_all.append([result, max_leaf])\n",
    "    if result < best_result[0]:\n",
    "        best_result[0], best_result[1] = result, max_leaf\n",
    "\n",
    "print(best_result)\n",
    "print(result_all)"
   ]
  },
  {
   "cell_type": "code",
   "execution_count": null,
   "metadata": {},
   "outputs": [],
   "source": [
    "# build final model\n",
    "\n",
    "final_model = DecisionTreeClassifier(\n",
    "    max_leaf_nodes=best_result[1],\n",
    "    random_state=1\n",
    ")\n",
    "\n",
    "final_model.fit(X, y)   # validation 데이터를 나누지 않고 모든 데이터 넣기"
   ]
  }
 ],
 "metadata": {
  "kernelspec": {
   "display_name": "Python 3.9.13 64-bit",
   "language": "python",
   "name": "python3"
  },
  "language_info": {
   "codemirror_mode": {
    "name": "ipython",
    "version": 3
   },
   "file_extension": ".py",
   "mimetype": "text/x-python",
   "name": "python",
   "nbconvert_exporter": "python",
   "pygments_lexer": "ipython3",
   "version": "3.9.13"
  },
  "orig_nbformat": 4,
  "vscode": {
   "interpreter": {
    "hash": "3d3579b64ed644892bc49d0da2d1890659408e00eebf25200bc250e1696a02dd"
   }
  }
 },
 "nbformat": 4,
 "nbformat_minor": 2
}
