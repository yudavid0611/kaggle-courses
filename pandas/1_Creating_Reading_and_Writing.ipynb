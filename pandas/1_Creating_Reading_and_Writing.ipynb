{
 "cells": [
  {
   "cell_type": "markdown",
   "metadata": {},
   "source": [
    "# 1_Creating, Reading and Writing\n",
    "\n",
    ">References\n",
    "> - https://www.kaggle.com/code/residentmario/creating-reading-and-writing"
   ]
  },
  {
   "cell_type": "code",
   "execution_count": 3,
   "metadata": {},
   "outputs": [],
   "source": [
    "# requirements\n",
    "import pandas as pd"
   ]
  },
  {
   "cell_type": "markdown",
   "metadata": {},
   "source": [
    "## 1. DataFrame\n",
    "- A table. It contains an array of individual entries. And each entry has a certain value.\n",
    "  - ![DataFrame_sample]('./DataFrame_sample.JPG')\n",
    "  - Entry: \"0, No\" entry's value is 131."
   ]
  },
  {
   "cell_type": "code",
   "execution_count": 4,
   "metadata": {},
   "outputs": [
    {
     "name": "stdout",
     "output_type": "stream",
     "text": [
      "            David             Rucy\n",
      "0      I love you  I love you too!\n",
      "1  How about you?           HaHaHa\n"
     ]
    }
   ],
   "source": [
    "# Make a DataFrame\n",
    "df = pd.DataFrame({\n",
    "  'David': ['I love you', 'How about you?'],\n",
    "  'Rucy': ['I love you too!', 'HaHaHa']\n",
    "})\n",
    "\n",
    "print(df)"
   ]
  },
  {
   "cell_type": "markdown",
   "metadata": {},
   "source": [
    "- You can also assign row labels by using an *index* parameter."
   ]
  },
  {
   "cell_type": "code",
   "execution_count": 6,
   "metadata": {},
   "outputs": [
    {
     "name": "stdout",
     "output_type": "stream",
     "text": [
      "                   David             Rucy\n",
      "comment1      I love you  I love you too!\n",
      "comment2  How about you?           HaHaHa\n"
     ]
    }
   ],
   "source": [
    "# assign row labels\n",
    "df = pd.DataFrame({\n",
    "  'David': ['I love you', 'How about you?'],\n",
    "  'Rucy': ['I love you too!', 'HaHaHa']},\n",
    "  index = ['comment1', 'comment2']\n",
    ")\n",
    "\n",
    "print(df)"
   ]
  },
  {
   "cell_type": "markdown",
   "metadata": {},
   "source": [
    "## 2. Srises\n"
   ]
  },
  {
   "cell_type": "code",
   "execution_count": null,
   "metadata": {},
   "outputs": [],
   "source": []
  }
 ],
 "metadata": {
  "kernelspec": {
   "display_name": "Python 3.8.8 ('base')",
   "language": "python",
   "name": "python3"
  },
  "language_info": {
   "codemirror_mode": {
    "name": "ipython",
    "version": 3
   },
   "file_extension": ".py",
   "mimetype": "text/x-python",
   "name": "python",
   "nbconvert_exporter": "python",
   "pygments_lexer": "ipython3",
   "version": "3.8.8"
  },
  "orig_nbformat": 4,
  "vscode": {
   "interpreter": {
    "hash": "dbe827b3e7dff20e8c8d0b72069e5a3828c834d48d0c4f28538887a9a7d00e33"
   }
  }
 },
 "nbformat": 4,
 "nbformat_minor": 2
}
