{
 "cells": [
  {
   "cell_type": "markdown",
   "metadata": {},
   "source": [
    "# 1_Creating, Reading and Writing\n",
    "\n",
    ">References\n",
    "> - https://www.kaggle.com/code/residentmario/creating-reading-and-writing"
   ]
  },
  {
   "cell_type": "markdown",
   "metadata": {},
   "source": [
    "## Definitions\n",
    "- DataFrame: A table. It contains an array of individual entries. And each entry has a certain value.\n",
    "  - ![DataFrame_sample]('data/DataFrame_sample.jpg')\n",
    "  - Entry: \"0, No\" entry's value is 131."
   ]
  },
  {
   "cell_type": "markdown",
   "metadata": {},
   "source": [
    "## Make a DataFrame"
   ]
  },
  {
   "cell_type": "code",
   "execution_count": 3,
   "metadata": {},
   "outputs": [
    {
     "data": {
      "text/html": [
       "<div>\n",
       "<style scoped>\n",
       "    .dataframe tbody tr th:only-of-type {\n",
       "        vertical-align: middle;\n",
       "    }\n",
       "\n",
       "    .dataframe tbody tr th {\n",
       "        vertical-align: top;\n",
       "    }\n",
       "\n",
       "    .dataframe thead th {\n",
       "        text-align: right;\n",
       "    }\n",
       "</style>\n",
       "<table border=\"1\" class=\"dataframe\">\n",
       "  <thead>\n",
       "    <tr style=\"text-align: right;\">\n",
       "      <th></th>\n",
       "      <th>David</th>\n",
       "      <th>Rucy</th>\n",
       "    </tr>\n",
       "  </thead>\n",
       "  <tbody>\n",
       "    <tr>\n",
       "      <th>0</th>\n",
       "      <td>I love you</td>\n",
       "      <td>I love you too!</td>\n",
       "    </tr>\n",
       "    <tr>\n",
       "      <th>1</th>\n",
       "      <td>How about you?</td>\n",
       "      <td>HaHaHa</td>\n",
       "    </tr>\n",
       "  </tbody>\n",
       "</table>\n",
       "</div>"
      ],
      "text/plain": [
       "            David             Rucy\n",
       "0      I love you  I love you too!\n",
       "1  How about you?           HaHaHa"
      ]
     },
     "execution_count": 3,
     "metadata": {},
     "output_type": "execute_result"
    }
   ],
   "source": [
    "import pandas as pd\n",
    "\n",
    "pd.DataFrame({\n",
    "  'David': ['I love you', 'How about you?'],\n",
    "  'Rucy': ['I love you too!', 'HaHaHa']})"
   ]
  },
  {
   "cell_type": "code",
   "execution_count": 4,
   "metadata": {},
   "outputs": [
    {
     "data": {
      "text/html": [
       "<div>\n",
       "<style scoped>\n",
       "    .dataframe tbody tr th:only-of-type {\n",
       "        vertical-align: middle;\n",
       "    }\n",
       "\n",
       "    .dataframe tbody tr th {\n",
       "        vertical-align: top;\n",
       "    }\n",
       "\n",
       "    .dataframe thead th {\n",
       "        text-align: right;\n",
       "    }\n",
       "</style>\n",
       "<table border=\"1\" class=\"dataframe\">\n",
       "  <thead>\n",
       "    <tr style=\"text-align: right;\">\n",
       "      <th></th>\n",
       "      <th>David</th>\n",
       "      <th>Rucy</th>\n",
       "    </tr>\n",
       "  </thead>\n",
       "  <tbody>\n",
       "    <tr>\n",
       "      <th>talk1</th>\n",
       "      <td>I love you</td>\n",
       "      <td>I love you too!</td>\n",
       "    </tr>\n",
       "    <tr>\n",
       "      <th>talk2</th>\n",
       "      <td>How about you?</td>\n",
       "      <td>HaHaHa</td>\n",
       "    </tr>\n",
       "  </tbody>\n",
       "</table>\n",
       "</div>"
      ],
      "text/plain": [
       "                David             Rucy\n",
       "talk1      I love you  I love you too!\n",
       "talk2  How about you?           HaHaHa"
      ]
     },
     "execution_count": 4,
     "metadata": {},
     "output_type": "execute_result"
    }
   ],
   "source": [
    "# set index\n",
    "# use an 'index' parameter\n",
    "entries = {\n",
    "    'David': ['I love you', 'How about you?'],\n",
    "  'Rucy': ['I love you too!', 'HaHaHa']\n",
    "}\n",
    "\n",
    "pd.DataFrame(entries, index = ['talk1', 'talk2'])"
   ]
  },
  {
   "cell_type": "markdown",
   "metadata": {},
   "source": [
    "## Series\n",
    "- DataFrame is a table. In contrast, Series object is a list. \n",
    "- Series is ,in essence, a column of DataFrame."
   ]
  },
  {
   "cell_type": "code",
   "execution_count": 5,
   "metadata": {},
   "outputs": [
    {
     "name": "stdout",
     "output_type": "stream",
     "text": [
      "0    1\n",
      "1    2\n",
      "2    3\n",
      "3    4\n",
      "dtype: int64\n",
      "<class 'pandas.core.series.Series'>\n"
     ]
    }
   ],
   "source": [
    "# create series\n",
    "s = pd.Series([1, 2, 3, 4])\n",
    "print(s)\n",
    "print(type(s))"
   ]
  },
  {
   "cell_type": "code",
   "execution_count": 6,
   "metadata": {},
   "outputs": [
    {
     "name": "stdout",
     "output_type": "stream",
     "text": [
      "n1    1\n",
      "n2    2\n",
      "n3    3\n",
      "n4    4\n",
      "Name: a series of numbers, dtype: int64\n"
     ]
    }
   ],
   "source": [
    "# asign an index and a name\n",
    "s = pd.Series([1,2,3,4],\n",
    "index = ['n1', 'n2', 'n3', 'n4'],\n",
    "name = 'a series of numbers')\n",
    "\n",
    "print(s)"
   ]
  },
  {
   "cell_type": "markdown",
   "metadata": {},
   "source": [
    "## Exercise"
   ]
  },
  {
   "cell_type": "code",
   "execution_count": null,
   "metadata": {},
   "outputs": [],
   "source": [
    "# append Series to a DataFrame as a row (with append method)\n",
    "fruits = pd.DataFrame({\n",
    "    'Apples': [30],\n",
    "    'Bananas': [21]\n",
    "})\n",
    "\n",
    "temp_row = pd.Series([41,34], index=['Apples', 'Bananas'])\n",
    "\n",
    "fruits = fruits.append(temp_row, ignore_index=True)\n",
    "\n",
    "print(fruits)\n",
    "\n",
    "'''\n",
    "Warning: The frame.append method is deprecated and will be removed from pandas in a future version. Use pandas.concat instead.\n",
    "'''"
   ]
  },
  {
   "cell_type": "code",
   "execution_count": 22,
   "metadata": {},
   "outputs": [
    {
     "name": "stdout",
     "output_type": "stream",
     "text": [
      "   Apples  Bananas\n",
      "0      30       21\n",
      "1      41       34\n"
     ]
    }
   ],
   "source": [
    "# append Series to a DataFrame as a row(with loc)\n",
    "fruits = pd.DataFrame({\n",
    "    'Apples': [30],\n",
    "    'Bananas': [21]\n",
    "})\n",
    "\n",
    "temp_row = pd.Series([41,34], index=['Apples', 'Bananas'])\n",
    "\n",
    "fruits.loc[1] = temp_row\n",
    "\n",
    "print(fruits)"
   ]
  },
  {
   "cell_type": "code",
   "execution_count": 34,
   "metadata": {},
   "outputs": [
    {
     "name": "stdout",
     "output_type": "stream",
     "text": [
      "   Apples  Bananas\n",
      "0      30       21\n",
      "1      41       34\n"
     ]
    }
   ],
   "source": [
    "# append Series to a DataFrame as a row (by converting Series to DataFrame)\n",
    "fruits = pd.DataFrame({\n",
    "    'Apples': [30],\n",
    "    'Bananas': [21]\n",
    "})\n",
    "\n",
    "temp_row = pd.Series([41,34], index=['Apples', 'Bananas'])\n",
    "\n",
    "temp_row = pd.DataFrame([temp_row]) # Series index -> DataFrame column\n",
    "\n",
    "fruits = pd.concat([fruits, temp_row], ignore_index=True)\n",
    "\n",
    "print(fruits)"
   ]
  },
  {
   "cell_type": "code",
   "execution_count": 35,
   "metadata": {},
   "outputs": [
    {
     "name": "stdout",
     "output_type": "stream",
     "text": [
      "   Apples  Bananas  Mango\n",
      "0      30       21     50\n"
     ]
    }
   ],
   "source": [
    "# append Series to a DataFrame as a column\n",
    "fruits = pd.DataFrame({\n",
    "    'Apples': [30],\n",
    "    'Bananas': [21]\n",
    "})\n",
    "\n",
    "temp_col = pd.Series([50], name='Mango')    # Seires name -> DataFrame column\n",
    "\n",
    "fruits = pd.concat([fruits, temp_col], axis=1)\n",
    "\n",
    "print(fruits)"
   ]
  }
 ],
 "metadata": {
  "kernelspec": {
   "display_name": "Python 3.9.13 64-bit",
   "language": "python",
   "name": "python3"
  },
  "language_info": {
   "codemirror_mode": {
    "name": "ipython",
    "version": 3
   },
   "file_extension": ".py",
   "mimetype": "text/x-python",
   "name": "python",
   "nbconvert_exporter": "python",
   "pygments_lexer": "ipython3",
   "version": "3.9.13"
  },
  "orig_nbformat": 4,
  "vscode": {
   "interpreter": {
    "hash": "3d3579b64ed644892bc49d0da2d1890659408e00eebf25200bc250e1696a02dd"
   }
  }
 },
 "nbformat": 4,
 "nbformat_minor": 2
}
