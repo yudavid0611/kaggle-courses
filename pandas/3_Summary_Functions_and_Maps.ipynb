{
 "cells": [
  {
   "cell_type": "markdown",
   "metadata": {},
   "source": [
    "# 3. Summary Functions and Maps"
   ]
  },
  {
   "cell_type": "markdown",
   "metadata": {},
   "source": [
    "## 1) Summary functions\n",
    "- df.column.describe(): generates a high-level summary of the column. The contents of the summary differ between data type of columns.\n",
    "- df.column.mean(): shows the mean value.\n",
    "- df.column.unique(): shows the unique values.\n",
    "- map(): let's take a look at it below!"
   ]
  },
  {
   "cell_type": "markdown",
   "metadata": {},
   "source": [
    "## 2) Exercise"
   ]
  },
  {
   "cell_type": "code",
   "execution_count": 18,
   "metadata": {},
   "outputs": [],
   "source": [
    "import pandas as pd\n",
    "df = pd.DataFrame({\n",
    "    'a' : [1,2,3,4,5],\n",
    "    'b' : [6,7,7,8,9],\n",
    "    'c' : [1,2,1,2,1]\n",
    "})"
   ]
  },
  {
   "cell_type": "code",
   "execution_count": 12,
   "metadata": {},
   "outputs": [
    {
     "data": {
      "text/plain": [
       "1    1\n",
       "2    1\n",
       "3    1\n",
       "4    1\n",
       "5    1\n",
       "Name: a, dtype: int64"
      ]
     },
     "execution_count": 12,
     "metadata": {},
     "output_type": "execute_result"
    }
   ],
   "source": [
    "df['a'].value_counts()"
   ]
  },
  {
   "cell_type": "code",
   "execution_count": 2,
   "metadata": {},
   "outputs": [
    {
     "name": "stdout",
     "output_type": "stream",
     "text": [
      "1    3\n",
      "2    2\n",
      "Name: c, dtype: int64\n"
     ]
    }
   ],
   "source": [
    "# method: value_counts()\n",
    "print(df['c'].value_counts())"
   ]
  },
  {
   "cell_type": "code",
   "execution_count": 3,
   "metadata": {},
   "outputs": [
    {
     "name": "stdout",
     "output_type": "stream",
     "text": [
      "0   -2.0\n",
      "1   -1.0\n",
      "2    0.0\n",
      "3    1.0\n",
      "4    2.0\n",
      "Name: a, dtype: float64\n"
     ]
    }
   ],
   "source": [
    "# create a Series that has values which are subtracted by a mean value\n",
    "\n",
    "# case 1\n",
    "result = df['a'] - df['a'].mean()\n",
    "print(result)"
   ]
  },
  {
   "cell_type": "code",
   "execution_count": 4,
   "metadata": {},
   "outputs": [
    {
     "name": "stdout",
     "output_type": "stream",
     "text": [
      "0   -2.0\n",
      "1   -1.0\n",
      "2    0.0\n",
      "3    1.0\n",
      "4    2.0\n",
      "Name: a, dtype: float64\n"
     ]
    }
   ],
   "source": [
    "# create a Series that has values which are subtracted by a mean value\n",
    "\n",
    "# case 2: with 'map' method\n",
    "mean_value = df['a'].mean()\n",
    "result = df['a'].map(lambda x: x-mean_value)\n",
    "print(result)"
   ]
  },
  {
   "cell_type": "code",
   "execution_count": 6,
   "metadata": {},
   "outputs": [
    {
     "name": "stdout",
     "output_type": "stream",
     "text": [
      "0   -2.0\n",
      "1   -1.0\n",
      "2    0.0\n",
      "3    1.0\n",
      "4    2.0\n",
      "Name: a, dtype: float64\n"
     ]
    }
   ],
   "source": [
    "# create a Series that has values which are subtracted by a mean value\n",
    "\n",
    "# case 3: with 'apply' method\n",
    "mean_value = df['a'].mean()\n",
    "f = lambda x: x-mean_value\n",
    "result = df['a'].apply(f)\n",
    "print(result)"
   ]
  },
  {
   "cell_type": "code",
   "execution_count": 26,
   "metadata": {},
   "outputs": [
    {
     "name": "stdout",
     "output_type": "stream",
     "text": [
      "0        6\n",
      "1    great\n",
      "2    great\n",
      "3    great\n",
      "4    great\n",
      "dtype: object\n"
     ]
    }
   ],
   "source": [
    "# change values in the 'b' column that are more than or equal to 6 into 'great'\n",
    "\n",
    "def change_values(row):\n",
    "    if row['b'] >= 7:\n",
    "        return 'great'\n",
    "    else:\n",
    "        return row['b']\n",
    "\n",
    "result = df.apply(change_values, axis=1)\n",
    "print(result)"
   ]
  }
 ],
 "metadata": {
  "kernelspec": {
   "display_name": "Python 3.8.8 ('base')",
   "language": "python",
   "name": "python3"
  },
  "language_info": {
   "codemirror_mode": {
    "name": "ipython",
    "version": 3
   },
   "file_extension": ".py",
   "mimetype": "text/x-python",
   "name": "python",
   "nbconvert_exporter": "python",
   "pygments_lexer": "ipython3",
   "version": "3.8.8"
  },
  "orig_nbformat": 4,
  "vscode": {
   "interpreter": {
    "hash": "dbe827b3e7dff20e8c8d0b72069e5a3828c834d48d0c4f28538887a9a7d00e33"
   }
  }
 },
 "nbformat": 4,
 "nbformat_minor": 2
}
